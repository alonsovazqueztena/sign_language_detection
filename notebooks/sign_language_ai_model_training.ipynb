{
  "cells": [
    {
      "cell_type": "code",
      "execution_count": null,
      "metadata": {
        "colab": {
          "base_uri": "https://localhost:8080/"
        },
        "id": "86vi723Cn4xn",
        "outputId": "7ad08654-8af2-470b-ec08-0d9e8dd0fd4c"
      },
      "outputs": [],
      "source": [
        "# Alonso Vazquez Tena\n",
        "# SWE-452: Software Development Life Cycle (SDLC) II\n",
        "# I used source code from the following\n",
        "# website to complete this assignment:\n",
        "# https://chatgpt.com/share/67ba6278-9328-800e-bf32-540708d074c6\n",
        "# (used as starter code for basic functionality).\n",
        "\n",
        "# Import Google Drive.\n",
        "from google.colab import drive\n",
        "\n",
        "# Ensure that the Google Drive is flushed and unmounted\n",
        "# to refresh for the next epochs.\n",
        "drive.flush_and_unmount()"
      ]
    },
    {
      "cell_type": "code",
      "execution_count": null,
      "metadata": {
        "colab": {
          "base_uri": "https://localhost:8080/"
        },
        "id": "t1SEoSs6oC-6",
        "outputId": "347da96e-053e-403e-b965-c52c71fa7324"
      },
      "outputs": [],
      "source": [
        "# Check if Google Drive is able to\n",
        "# be accessed.\n",
        "!ls Insert Google Drive path here"
      ]
    },
    {
      "cell_type": "code",
      "execution_count": null,
      "metadata": {
        "id": "PNDnxTgWoGE3"
      },
      "outputs": [],
      "source": [
        "# If Google Drive is present, remove it\n",
        "# to ensure we can mount it again.\n",
        "!rm -rf Insert Google Drive path here"
      ]
    },
    {
      "cell_type": "code",
      "execution_count": null,
      "metadata": {
        "colab": {
          "base_uri": "https://localhost:8080/"
        },
        "id": "Axw7nvSvoJJt",
        "outputId": "95b3a8a0-f17e-4e34-dc48-fdff2bd2ebbd"
      },
      "outputs": [],
      "source": [
        "# We import the Google Drive again.\n",
        "from google.colab import drive\n",
        "\n",
        "# We mount the Google Drive.\n",
        "drive.mount('Insert Google Drive path here')"
      ]
    },
    {
      "cell_type": "code",
      "execution_count": null,
      "metadata": {
        "colab": {
          "base_uri": "https://localhost:8080/"
        },
        "id": "GZfsN9ZUoWSA",
        "outputId": "15133b97-6fc1-453d-decf-02b13d6cf6a7"
      },
      "outputs": [],
      "source": [
        "# Check if we can access the images dataset.\n",
        "!ls \"Insert images dataset path here\""
      ]
    },
    {
      "cell_type": "code",
      "execution_count": null,
      "metadata": {
        "colab": {
          "base_uri": "https://localhost:8080/"
        },
        "id": "Wy8nEWEeompp",
        "outputId": "1a73ae13-f1fc-43f3-ceec-13c4908084e3"
      },
      "outputs": [],
      "source": [
        "# Install tensorboard, so we can retrieve useful\n",
        "# graphs regarding the accuracy and metrics of\n",
        "# the AI model.\n",
        "!pip install tensorboard"
      ]
    },
    {
      "cell_type": "code",
      "execution_count": null,
      "metadata": {
        "colab": {
          "base_uri": "https://localhost:8080/"
        },
        "id": "TdvStJoLornt",
        "outputId": "a460e92f-2a8e-4316-e81d-1edd1fff74e2"
      },
      "outputs": [],
      "source": [
        "# The following dependencies must be installed.\n",
        "\n",
        "# Ultralytics is the dependency in which our YOLO\n",
        "# model's program code is located at for training,\n",
        "# predicting, tracking, etc.\n",
        "\n",
        "# Yagmail is the dependency in which we can\n",
        "# receive email alerts regarding the training status.\n",
        "!pip install ultralytics yagmail\n",
        "\n",
        "# We import yagmail to leverage email alerts.\n",
        "import yagmail\n",
        "\n",
        "# This allows for interaction with the operating system.\n",
        "import os\n",
        "\n",
        "# This allows for debugging and error handling.\n",
        "import traceback\n",
        "\n",
        "# Import YOLO to be able to use training, predicting,\n",
        "# tracking, etc. methods.\n",
        "from ultralytics import YOLO\n",
        "\n",
        "# We take in the Tensorboard log directory.\n",
        "tensorboard_log_dir = \"Insert Tensorboard log directory path here\"\n",
        "\n",
        "# If the Tensorboard log directory does not exist, create it.\n",
        "os.makedirs(\n",
        "    tensorboard_log_dir,\n",
        "    exist_ok=True\n",
        "    )\n",
        "\n",
        "# This method sends email notifications for any training statuses.\n",
        "def send_email_notification(\n",
        "      subject, body):\n",
        "    \"\"\"Send an email notification.\"\"\"\n",
        "\n",
        "    try:\n",
        "        # Take in our credentials (must be established through\n",
        "        # your email account).\n",
        "        yag = yagmail.SMTP(\n",
        "            \"Insert your email address here\",\n",
        "            \"Insert your Yagmail security code here\")\n",
        "\n",
        "        # Using our email address, send the email.\n",
        "        yag.send(\n",
        "            to=\"Insert your email address here\",\n",
        "            subject=subject,\n",
        "            contents=body,\n",
        "        )\n",
        "\n",
        "        # Print to the console that an email was sent.\n",
        "        print(\n",
        "            f\"Email sent: {subject}\"\n",
        "            )\n",
        "\n",
        "    except Exception as e:\n",
        "\n",
        "        # Print to the console that an email failed to send.\n",
        "        print(f\"Failed to send email: {e}\")\n",
        "\n",
        "try:\n",
        "    # We load in the YOLO model here.\n",
        "    model = YOLO(\n",
        "        \"Insert your YOLO model directory path here\")\n",
        "\n",
        "    # We take in the checkpoints directory.\n",
        "    checkpoints_dir = \"Insert your YOLO model checkpoints directory path here\"\n",
        "\n",
        "    # If the checkpoints directory does not exist,\n",
        "    # create it.\n",
        "    os.makedirs(\n",
        "        checkpoints_dir,\n",
        "        exist_ok=True\n",
        "        )\n",
        "\n",
        "    # This integer variable will hold our initial\n",
        "    # epoch (training session).\n",
        "    starting_epoch = 100\n",
        "\n",
        "    # This integer variable will hold our last\n",
        "    # epoch (training session).\n",
        "    ending_epoch = 101\n",
        "\n",
        "    # This for-loop will serve to train the YOLO model for\n",
        "    # a number of sessions.\n",
        "    for epoch in range(\n",
        "          starting_epoch,\n",
        "          ending_epoch):\n",
        "\n",
        "        # We print the epoch we are starting training for here.\n",
        "        print(\n",
        "            f\"Starting epoch {epoch + 1}\"\n",
        "            )\n",
        "\n",
        "        # We train for one epoch here.\n",
        "\n",
        "        # We bring in the data through a YAML file, establish\n",
        "        # the image size, assign what device we will save,\n",
        "        # enable automatic saving, set the TensorBoard\n",
        "        # log directory, and log each run separately.\n",
        "        train_results = model.train(\n",
        "            data=\"Insert your image dataset YAML file path here\",\n",
        "            epochs=1,\n",
        "            imgsz=640,\n",
        "            device=\"cpu\",\n",
        "            save=False,\n",
        "            project=tensorboard_log_dir,\n",
        "            name=f\"run_{epoch + 1}\"\n",
        "        )\n",
        "\n",
        "        # We save each checkpoint of the YOLO model.\n",
        "        checkpoint_path = f\"{checkpoints_dir}/yolo_epoch_{epoch + 1}.pt\"\n",
        "        model.save(\n",
        "            checkpoint_path\n",
        "            )\n",
        "        print(\n",
        "            f\"Model saved: {checkpoint_path}\"\n",
        "            )\n",
        "\n",
        "    # If the training is complete, we notify the user that the AI\n",
        "    # model training has been completed.\n",
        "    send_email_notification(\n",
        "        \"Training Completed\",\n",
        "        \"The YOLO model training has completed successfully!\"\n",
        "        )\n",
        "except Exception as e:\n",
        "\n",
        "    # If an error occurred or the runtime was disconnected,\n",
        "    # an email notifies us.\n",
        "    error_message = traceback.format_exc()\n",
        "    send_email_notification(\n",
        "        \"Training Interrupted\",\n",
        "        f\"An error occurred:\\n\\n{error_message}\"\n",
        "        )\n",
        "    print(\n",
        "        f\"Training interrupted: {e}\"\n",
        "        )"
      ]
    }
  ],
  "metadata": {
    "colab": {
      "provenance": []
    },
    "kernelspec": {
      "display_name": "Python 3",
      "name": "python3"
    },
    "language_info": {
      "name": "python"
    }
  },
  "nbformat": 4,
  "nbformat_minor": 0
}
